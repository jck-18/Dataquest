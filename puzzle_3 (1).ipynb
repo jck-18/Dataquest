{
  "nbformat": 4,
  "nbformat_minor": 0,
  "metadata": {
    "colab": {
      "provenance": []
    },
    "kernelspec": {
      "name": "python3",
      "display_name": "Python 3"
    },
    "language_info": {
      "name": "python"
    }
  },
  "cells": [
    {
      "cell_type": "code",
      "execution_count": 5,
      "metadata": {
        "id": "OUSqJsICV9Q9"
      },
      "outputs": [],
      "source": [
        "import pandas as pd\n",
        "import numpy as np\n",
        "import matplotlib.pyplot as plt\n",
        "from sklearn.linear_model import LinearRegression, Ridge, Lasso\n",
        "from sklearn.model_selection import train_test_split, cross_val_score\n",
        "from statistics import mean"
      ]
    },
    {
      "cell_type": "code",
      "source": [],
      "metadata": {
        "id": "5SPbJQ-QWC48"
      },
      "execution_count": null,
      "outputs": []
    },
    {
      "cell_type": "code",
      "source": [
        "\n",
        "# Loading the data into a Pandas DataFrame\n",
        "data = pd.read_csv('Hungry.csv')\n",
        "\n",
        "# Dropping the numerically non-sensical variables\n",
        "dropColumns = ['id', 'Latitude', 'Longitude']\n",
        "data = data.drop(dropColumns, axis = 1)\n",
        "\n",
        "\n",
        "\n",
        "# Separating the dependent and independent variables\n",
        "y = data['target_binary']\n",
        "X = data.drop('target_binary', axis = 1)\n",
        "\n"
      ],
      "metadata": {
        "id": "-DEqubAHa3oZ"
      },
      "execution_count": 12,
      "outputs": []
    },
    {
      "cell_type": "code",
      "source": [
        "# splitting dataframe by row index\n",
        "df_1 = df.iloc[:25201,:]\n",
        "df_2 = df.iloc[25201:,:]\n",
        "print(\"Shape of new dataframes - {} , {}\".format(df_1.shape, df_2.shape))\n"
      ],
      "metadata": {
        "id": "-ISq9T9QgosF"
      },
      "execution_count": null,
      "outputs": []
    },
    {
      "cell_type": "code",
      "source": [
        "# List to maintain the cross-validation scores\n",
        "cross_val_scores_lasso = []\n",
        "\n",
        "# List to maintain the different values of Lambda\n",
        "Lambda = []\n",
        "\n",
        "# Loop to compute the cross-validation scores\n",
        "for i in range(1, 9):\n",
        "\tlassoModel = Lasso(alpha = i * 0.25, tol = 0.0925)\n",
        "\tlassoModel.fit(X_train, y_train)\n",
        "\tscores = cross_val_score(lassoModel, X, y, cv = 10)\n",
        "\tavg_cross_val_score = mean(scores)*100\n",
        "\tcross_val_scores_lasso.append(avg_cross_val_score)\n",
        "\tLambda.append(i * 0.25)\n",
        "\n",
        "# Loop to print the different values of cross-validation scores\n",
        "for i in range(0, len(alpha)):\n",
        "\tprint(str(alpha[i])+' : '+str(cross_val_scores_lasso[i]))\n"
      ],
      "metadata": {
        "id": "DiwJ26Dpbt9Q"
      },
      "execution_count": null,
      "outputs": []
    }
  ]
}